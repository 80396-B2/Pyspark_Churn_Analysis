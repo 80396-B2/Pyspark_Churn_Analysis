{
 "cells": [
  {
   "cell_type": "code",
   "execution_count": 1,
   "metadata": {},
   "outputs": [
    {
     "name": "stderr",
     "output_type": "stream",
     "text": [
      "/home/kartik/.local/lib/python3.10/site-packages/pandas/core/arrays/masked.py:62: UserWarning: Pandas requires version '1.3.4' or newer of 'bottleneck' (version '1.3.2' currently installed).\n",
      "  from pandas.core import (\n"
     ]
    }
   ],
   "source": [
    "import warnings\n",
    "import pandas as pd\n",
    "from pyspark.ml.classification import GBTClassifier\n",
    "from pyspark.ml.evaluation import BinaryClassificationEvaluator\n",
    "from pyspark.ml.feature import StringIndexer, VectorAssembler, OneHotEncoder\n",
    "from pyspark.ml.tuning import ParamGridBuilder, CrossValidator\n",
    "from pyspark.sql import SparkSession\n",
    "from pyspark.ml.feature import Bucketizer\n",
    "\n",
    "warnings.filterwarnings(\"ignore\", category=DeprecationWarning)\n",
    "warnings.filterwarnings(\"ignore\", category=FutureWarning)\n",
    "\n",
    "pd.set_option('display.max_columns', None)\n",
    "pd.set_option('display.float_format', lambda x: '%.2f' % x)"
   ]
  },
  {
   "cell_type": "code",
   "execution_count": 2,
   "metadata": {},
   "outputs": [
    {
     "name": "stderr",
     "output_type": "stream",
     "text": [
      "24/02/25 16:05:51 WARN Utils: Your hostname, kartik-ASUS-TUF-Gaming-A15-FA506IC-FA506IC resolves to a loopback address: 127.0.1.1, but we couldn't find any external IP address!\n",
      "24/02/25 16:05:51 WARN Utils: Set SPARK_LOCAL_IP if you need to bind to another address\n",
      "Setting default log level to \"WARN\".\n",
      "To adjust logging level use sc.setLogLevel(newLevel). For SparkR, use setLogLevel(newLevel).\n",
      "24/02/25 16:05:52 WARN NativeCodeLoader: Unable to load native-hadoop library for your platform... using builtin-java classes where applicable\n",
      "24/02/25 16:05:52 WARN MacAddressUtil: Failed to find a usable hardware address from the network interfaces; using random bytes: a9:7e:f9:40:c1:91:89:d4\n"
     ]
    }
   ],
   "source": [
    "spark = SparkSession.builder.master(\"local[*]\").appName(\"PySpark-Churn\").getOrCreate()"
   ]
  },
  {
   "cell_type": "code",
   "execution_count": 3,
   "metadata": {},
   "outputs": [
    {
     "data": {
      "text/html": [
       "\n",
       "            <div>\n",
       "                <p><b>SparkSession - in-memory</b></p>\n",
       "                \n",
       "        <div>\n",
       "            <p><b>SparkContext</b></p>\n",
       "\n",
       "            <p><a href=\"http://kartik-ASUS-TUF-Gaming-A15-FA506IC-FA506IC:4040\">Spark UI</a></p>\n",
       "\n",
       "            <dl>\n",
       "              <dt>Version</dt>\n",
       "                <dd><code>v3.5.0</code></dd>\n",
       "              <dt>Master</dt>\n",
       "                <dd><code>local[*]</code></dd>\n",
       "              <dt>AppName</dt>\n",
       "                <dd><code>PySpark-Churn</code></dd>\n",
       "            </dl>\n",
       "        </div>\n",
       "        \n",
       "            </div>\n",
       "        "
      ],
      "text/plain": [
       "<pyspark.sql.session.SparkSession at 0x7fcda7201c00>"
      ]
     },
     "execution_count": 3,
     "metadata": {},
     "output_type": "execute_result"
    }
   ],
   "source": [
    "spark"
   ]
  },
  {
   "cell_type": "code",
   "execution_count": 4,
   "metadata": {},
   "outputs": [
    {
     "data": {
      "text/html": [
       "\n",
       "        <div>\n",
       "            <p><b>SparkContext</b></p>\n",
       "\n",
       "            <p><a href=\"http://kartik-ASUS-TUF-Gaming-A15-FA506IC-FA506IC:4040\">Spark UI</a></p>\n",
       "\n",
       "            <dl>\n",
       "              <dt>Version</dt>\n",
       "                <dd><code>v3.5.0</code></dd>\n",
       "              <dt>Master</dt>\n",
       "                <dd><code>local[*]</code></dd>\n",
       "              <dt>AppName</dt>\n",
       "                <dd><code>PySpark-Churn</code></dd>\n",
       "            </dl>\n",
       "        </div>\n",
       "        "
      ],
      "text/plain": [
       "<SparkContext master=local[*] appName=PySpark-Churn>"
      ]
     },
     "execution_count": 4,
     "metadata": {},
     "output_type": "execute_result"
    }
   ],
   "source": [
    "sc = spark.sparkContext\n",
    "sc"
   ]
  },
  {
   "cell_type": "code",
   "execution_count": 6,
   "metadata": {},
   "outputs": [
    {
     "data": {
      "text/plain": [
       "[('RowNumber', 'int'),\n",
       " ('CustomerId', 'int'),\n",
       " ('Surname', 'string'),\n",
       " ('CreditScore', 'int'),\n",
       " ('Geography', 'string'),\n",
       " ('Gender', 'string'),\n",
       " ('Age', 'int'),\n",
       " ('Tenure', 'int'),\n",
       " ('Balance', 'double'),\n",
       " ('NumOfProducts', 'int'),\n",
       " ('HasCrCard', 'int'),\n",
       " ('IsActiveMember', 'int'),\n",
       " ('EstimatedSalary', 'double'),\n",
       " ('Exited', 'int')]"
      ]
     },
     "execution_count": 6,
     "metadata": {},
     "output_type": "execute_result"
    }
   ],
   "source": [
    "spark_df =spark.read.format(\"csv\").option(\"header\", \"true\").option(\"inferschema\",\"true\").load(\"/home/kartik/Downloads/prsnl_project/Churn_Predictions.csv\")\n",
    "spark_df.dtypes"
   ]
  },
  {
   "cell_type": "code",
   "execution_count": 7,
   "metadata": {},
   "outputs": [
    {
     "data": {
      "text/plain": [
       "Row(RowNumber=1, CustomerId=15634602, Surname='Hargrave', CreditScore=619, Geography='France', Gender='Female', Age=42, Tenure=2, Balance=0.0, NumOfProducts=1, HasCrCard=1, IsActiveMember=1, EstimatedSalary=101348.88, Exited=1)"
      ]
     },
     "execution_count": 7,
     "metadata": {},
     "output_type": "execute_result"
    }
   ],
   "source": [
    "spark_df.head()"
   ]
  },
  {
   "cell_type": "code",
   "execution_count": 8,
   "metadata": {},
   "outputs": [
    {
     "name": "stdout",
     "output_type": "stream",
     "text": [
      "Shape:  (10000, 14)\n",
      "root\n",
      " |-- RowNumber: integer (nullable = true)\n",
      " |-- CustomerId: integer (nullable = true)\n",
      " |-- Surname: string (nullable = true)\n",
      " |-- CreditScore: integer (nullable = true)\n",
      " |-- Geography: string (nullable = true)\n",
      " |-- Gender: string (nullable = true)\n",
      " |-- Age: integer (nullable = true)\n",
      " |-- Tenure: integer (nullable = true)\n",
      " |-- Balance: double (nullable = true)\n",
      " |-- NumOfProducts: integer (nullable = true)\n",
      " |-- HasCrCard: integer (nullable = true)\n",
      " |-- IsActiveMember: integer (nullable = true)\n",
      " |-- EstimatedSalary: double (nullable = true)\n",
      " |-- Exited: integer (nullable = true)\n",
      "\n"
     ]
    },
    {
     "data": {
      "text/plain": [
       "[('RowNumber', 'int'),\n",
       " ('CustomerId', 'int'),\n",
       " ('Surname', 'string'),\n",
       " ('CreditScore', 'int'),\n",
       " ('Geography', 'string'),\n",
       " ('Gender', 'string'),\n",
       " ('Age', 'int'),\n",
       " ('Tenure', 'int'),\n",
       " ('Balance', 'double'),\n",
       " ('NumOfProducts', 'int'),\n",
       " ('HasCrCard', 'int'),\n",
       " ('IsActiveMember', 'int'),\n",
       " ('EstimatedSalary', 'double'),\n",
       " ('Exited', 'int')]"
      ]
     },
     "execution_count": 8,
     "metadata": {},
     "output_type": "execute_result"
    }
   ],
   "source": [
    "# Count for the columns\n",
    "print(\"Shape: \", (spark_df.count(), len(spark_df.columns)))\n",
    "\n",
    "# Variable types\n",
    "spark_df.printSchema()\n",
    "spark_df.dtypes"
   ]
  },
  {
   "cell_type": "code",
   "execution_count": 9,
   "metadata": {},
   "outputs": [
    {
     "name": "stdout",
     "output_type": "stream",
     "text": [
      "+---+\n",
      "|Age|\n",
      "+---+\n",
      "| 42|\n",
      "| 41|\n",
      "| 42|\n",
      "| 39|\n",
      "| 43|\n",
      "| 44|\n",
      "| 50|\n",
      "| 29|\n",
      "| 44|\n",
      "| 27|\n",
      "| 31|\n",
      "| 24|\n",
      "| 34|\n",
      "| 25|\n",
      "| 35|\n",
      "| 45|\n",
      "| 58|\n",
      "| 24|\n",
      "| 45|\n",
      "| 24|\n",
      "+---+\n",
      "only showing top 20 rows\n",
      "\n"
     ]
    }
   ],
   "source": [
    "# Show the Age column\n",
    "spark_df.select(spark_df.Age).show()"
   ]
  },
  {
   "cell_type": "code",
   "execution_count": 10,
   "metadata": {},
   "outputs": [
    {
     "name": "stdout",
     "output_type": "stream",
     "text": [
      "+-------+------------------+-------------------+\n",
      "|summary|               age|             exited|\n",
      "+-------+------------------+-------------------+\n",
      "|  count|             10000|              10000|\n",
      "|   mean|           38.9218|             0.2037|\n",
      "| stddev|10.487806451704587|0.40276858399486065|\n",
      "|    min|                18|                  0|\n",
      "|    max|                92|                  1|\n",
      "+-------+------------------+-------------------+\n",
      "\n"
     ]
    }
   ],
   "source": [
    "# Lowercase columns\n",
    "spark_df = spark_df.toDF(*[c.lower() for c in spark_df.columns])\n",
    "spark_df.describe([\"age\", \"exited\"]).show()"
   ]
  },
  {
   "cell_type": "code",
   "execution_count": 11,
   "metadata": {},
   "outputs": [
    {
     "name": "stdout",
     "output_type": "stream",
     "text": [
      "+------+-----+\n",
      "|exited|count|\n",
      "+------+-----+\n",
      "|     1| 2037|\n",
      "|     0| 7963|\n",
      "+------+-----+\n",
      "\n"
     ]
    }
   ],
   "source": [
    "# Group by for the churn column\n",
    "spark_df.groupby(\"exited\").count().show()"
   ]
  },
  {
   "cell_type": "code",
   "execution_count": 16,
   "metadata": {},
   "outputs": [
    {
     "name": "stdout",
     "output_type": "stream",
     "text": [
      "+------+-----------------+\n",
      "|exited|         avg(age)|\n",
      "+------+-----------------+\n",
      "|     1| 44.8379970544919|\n",
      "|     0|37.40838879819164|\n",
      "+------+-----------------+\n",
      "\n"
     ]
    }
   ],
   "source": [
    "spark_df.groupby(\"exited\").agg({\"age\": \"mean\"}).show()"
   ]
  },
  {
   "cell_type": "code",
   "execution_count": 17,
   "metadata": {},
   "outputs": [
    {
     "name": "stderr",
     "output_type": "stream",
     "text": [
      "24/02/25 16:14:33 WARN SparkStringUtils: Truncated the string representation of a plan since it was too large. This behavior can be adjusted by setting 'spark.sql.debug.maxToStringFields'.\n"
     ]
    },
    {
     "name": "stdout",
     "output_type": "stream",
     "text": [
      "+-------+------------------+-----------------+-----------------+------------------+------------------+-----------------+------------------+-------------------+-------------------+-----------------+-------------------+\n",
      "|summary|         rownumber|       customerid|      creditscore|               age|            tenure|          balance|     numofproducts|          hascrcard|     isactivemember|  estimatedsalary|             exited|\n",
      "+-------+------------------+-----------------+-----------------+------------------+------------------+-----------------+------------------+-------------------+-------------------+-----------------+-------------------+\n",
      "|  count|             10000|            10000|            10000|             10000|             10000|            10000|             10000|              10000|              10000|            10000|              10000|\n",
      "|   mean|            5000.5|  1.56909405694E7|         650.5288|           38.9218|            5.0128|76485.88928799961|            1.5302|             0.7055|             0.5151|100090.2398809998|             0.2037|\n",
      "| stddev|2886.8956799071675|71936.18612274907|96.65329873613035|10.487806451704587|2.8921743770496837|62397.40520238599|0.5816543579989917|0.45584046447513327|0.49979692845891815|57510.49281769821|0.40276858399486065|\n",
      "|    min|                 1|         15565701|              350|                18|                 0|              0.0|                 1|                  0|                  0|            11.58|                  0|\n",
      "|    max|             10000|         15815690|              850|                92|                10|        250898.09|                 4|                  1|                  1|        199992.48|                  1|\n",
      "+-------+------------------+-----------------+-----------------+------------------+------------------+-----------------+------------------+-------------------+-------------------+-----------------+-------------------+\n",
      "\n"
     ]
    },
    {
     "data": {
      "text/html": [
       "<div>\n",
       "<style scoped>\n",
       "    .dataframe tbody tr th:only-of-type {\n",
       "        vertical-align: middle;\n",
       "    }\n",
       "\n",
       "    .dataframe tbody tr th {\n",
       "        vertical-align: top;\n",
       "    }\n",
       "\n",
       "    .dataframe thead th {\n",
       "        text-align: right;\n",
       "    }\n",
       "</style>\n",
       "<table border=\"1\" class=\"dataframe\">\n",
       "  <thead>\n",
       "    <tr style=\"text-align: right;\">\n",
       "      <th></th>\n",
       "      <th>0</th>\n",
       "      <th>1</th>\n",
       "      <th>2</th>\n",
       "      <th>3</th>\n",
       "      <th>4</th>\n",
       "    </tr>\n",
       "  </thead>\n",
       "  <tbody>\n",
       "    <tr>\n",
       "      <th>summary</th>\n",
       "      <td>count</td>\n",
       "      <td>mean</td>\n",
       "      <td>stddev</td>\n",
       "      <td>min</td>\n",
       "      <td>max</td>\n",
       "    </tr>\n",
       "    <tr>\n",
       "      <th>rownumber</th>\n",
       "      <td>10000</td>\n",
       "      <td>5000.5</td>\n",
       "      <td>2886.8956799071675</td>\n",
       "      <td>1</td>\n",
       "      <td>10000</td>\n",
       "    </tr>\n",
       "    <tr>\n",
       "      <th>customerid</th>\n",
       "      <td>10000</td>\n",
       "      <td>1.56909405694E7</td>\n",
       "      <td>71936.18612274907</td>\n",
       "      <td>15565701</td>\n",
       "      <td>15815690</td>\n",
       "    </tr>\n",
       "    <tr>\n",
       "      <th>creditscore</th>\n",
       "      <td>10000</td>\n",
       "      <td>650.5288</td>\n",
       "      <td>96.65329873613035</td>\n",
       "      <td>350</td>\n",
       "      <td>850</td>\n",
       "    </tr>\n",
       "    <tr>\n",
       "      <th>age</th>\n",
       "      <td>10000</td>\n",
       "      <td>38.9218</td>\n",
       "      <td>10.487806451704587</td>\n",
       "      <td>18</td>\n",
       "      <td>92</td>\n",
       "    </tr>\n",
       "    <tr>\n",
       "      <th>tenure</th>\n",
       "      <td>10000</td>\n",
       "      <td>5.0128</td>\n",
       "      <td>2.8921743770496837</td>\n",
       "      <td>0</td>\n",
       "      <td>10</td>\n",
       "    </tr>\n",
       "    <tr>\n",
       "      <th>balance</th>\n",
       "      <td>10000</td>\n",
       "      <td>76485.88928799961</td>\n",
       "      <td>62397.40520238599</td>\n",
       "      <td>0.0</td>\n",
       "      <td>250898.09</td>\n",
       "    </tr>\n",
       "    <tr>\n",
       "      <th>numofproducts</th>\n",
       "      <td>10000</td>\n",
       "      <td>1.5302</td>\n",
       "      <td>0.5816543579989917</td>\n",
       "      <td>1</td>\n",
       "      <td>4</td>\n",
       "    </tr>\n",
       "    <tr>\n",
       "      <th>hascrcard</th>\n",
       "      <td>10000</td>\n",
       "      <td>0.7055</td>\n",
       "      <td>0.45584046447513327</td>\n",
       "      <td>0</td>\n",
       "      <td>1</td>\n",
       "    </tr>\n",
       "    <tr>\n",
       "      <th>isactivemember</th>\n",
       "      <td>10000</td>\n",
       "      <td>0.5151</td>\n",
       "      <td>0.49979692845891815</td>\n",
       "      <td>0</td>\n",
       "      <td>1</td>\n",
       "    </tr>\n",
       "    <tr>\n",
       "      <th>estimatedsalary</th>\n",
       "      <td>10000</td>\n",
       "      <td>100090.2398809998</td>\n",
       "      <td>57510.49281769821</td>\n",
       "      <td>11.58</td>\n",
       "      <td>199992.48</td>\n",
       "    </tr>\n",
       "    <tr>\n",
       "      <th>exited</th>\n",
       "      <td>10000</td>\n",
       "      <td>0.2037</td>\n",
       "      <td>0.40276858399486065</td>\n",
       "      <td>0</td>\n",
       "      <td>1</td>\n",
       "    </tr>\n",
       "  </tbody>\n",
       "</table>\n",
       "</div>"
      ],
      "text/plain": [
       "                     0                  1                    2         3  \\\n",
       "summary          count               mean               stddev       min   \n",
       "rownumber        10000             5000.5   2886.8956799071675         1   \n",
       "customerid       10000    1.56909405694E7    71936.18612274907  15565701   \n",
       "creditscore      10000           650.5288    96.65329873613035       350   \n",
       "age              10000            38.9218   10.487806451704587        18   \n",
       "tenure           10000             5.0128   2.8921743770496837         0   \n",
       "balance          10000  76485.88928799961    62397.40520238599       0.0   \n",
       "numofproducts    10000             1.5302   0.5816543579989917         1   \n",
       "hascrcard        10000             0.7055  0.45584046447513327         0   \n",
       "isactivemember   10000             0.5151  0.49979692845891815         0   \n",
       "estimatedsalary  10000  100090.2398809998    57510.49281769821     11.58   \n",
       "exited           10000             0.2037  0.40276858399486065         0   \n",
       "\n",
       "                         4  \n",
       "summary                max  \n",
       "rownumber            10000  \n",
       "customerid        15815690  \n",
       "creditscore            850  \n",
       "age                     92  \n",
       "tenure                  10  \n",
       "balance          250898.09  \n",
       "numofproducts            4  \n",
       "hascrcard                1  \n",
       "isactivemember           1  \n",
       "estimatedsalary  199992.48  \n",
       "exited                   1  "
      ]
     },
     "execution_count": 17,
     "metadata": {},
     "output_type": "execute_result"
    }
   ],
   "source": [
    "# Select numerical columns check the statistics\n",
    "num_cols = [col[0] for col in spark_df.dtypes if col[1] != 'string']\n",
    "spark_df.select(num_cols).describe().show()\n",
    "spark_df.select(num_cols).describe().toPandas().transpose()"
   ]
  },
  {
   "cell_type": "code",
   "execution_count": 18,
   "metadata": {},
   "outputs": [
    {
     "name": "stdout",
     "output_type": "stream",
     "text": [
      "+------------+\n",
      "|     surname|\n",
      "+------------+\n",
      "|       Tyler|\n",
      "|     Palermo|\n",
      "|      Piccio|\n",
      "|    Lazareva|\n",
      "|  Kambinachi|\n",
      "|       Virgo|\n",
      "| Baryshnikov|\n",
      "|     Wofford|\n",
      "|      Lavrov|\n",
      "|   Bezrukova|\n",
      "|      Avdeev|\n",
      "|      Clunie|\n",
      "|      Duigan|\n",
      "|    Sokolova|\n",
      "|      Azarov|\n",
      "|    Rawlings|\n",
      "|         Zox|\n",
      "|       Rubeo|\n",
      "|      Arbour|\n",
      "|Rapuluchukwu|\n",
      "+------------+\n",
      "only showing top 20 rows\n",
      "\n",
      "+---------+\n",
      "|geography|\n",
      "+---------+\n",
      "|  Germany|\n",
      "|   France|\n",
      "|    Spain|\n",
      "+---------+\n",
      "\n",
      "+------+\n",
      "|gender|\n",
      "+------+\n",
      "|Female|\n",
      "|  Male|\n",
      "+------+\n",
      "\n"
     ]
    }
   ],
   "source": [
    "# Select categorical columns and describe the statistics\n",
    "cat_cols = [col[0] for col in spark_df.dtypes if col[1] == 'string']\n",
    "\n",
    "for col in cat_cols:\n",
    "    spark_df.select(col).distinct().show()"
   ]
  },
  {
   "cell_type": "code",
   "execution_count": 19,
   "metadata": {},
   "outputs": [
    {
     "name": "stdout",
     "output_type": "stream",
     "text": [
      "+------+-----------------+\n",
      "|exited|   avg(rownumber)|\n",
      "+------+-----------------+\n",
      "|     1|4905.917525773196|\n",
      "|     0|5024.694964209469|\n",
      "+------+-----------------+\n",
      "\n",
      "+------+--------------------+\n",
      "|exited|     avg(customerid)|\n",
      "+------+--------------------+\n",
      "|     1|1.5690051964653904E7|\n",
      "|     0|1.5691167881702876E7|\n",
      "+------+--------------------+\n",
      "\n",
      "+------+-----------------+\n",
      "|exited| avg(creditscore)|\n",
      "+------+-----------------+\n",
      "|     1|645.3514972999509|\n",
      "|     0|651.8531960316463|\n",
      "+------+-----------------+\n",
      "\n",
      "+------+-----------------+\n",
      "|exited|         avg(age)|\n",
      "+------+-----------------+\n",
      "|     1| 44.8379970544919|\n",
      "|     0|37.40838879819164|\n",
      "+------+-----------------+\n",
      "\n",
      "+------+-----------------+\n",
      "|exited|      avg(tenure)|\n",
      "+------+-----------------+\n",
      "|     1|4.932744231713304|\n",
      "|     0|5.033278914981791|\n",
      "+------+-----------------+\n",
      "\n",
      "+------+-----------------+\n",
      "|exited|     avg(balance)|\n",
      "+------+-----------------+\n",
      "|     1|91108.53933726063|\n",
      "|     0|72745.29677885193|\n",
      "+------+-----------------+\n",
      "\n",
      "+------+------------------+\n",
      "|exited|avg(numofproducts)|\n",
      "+------+------------------+\n",
      "|     1|1.4752086401570939|\n",
      "|     0|1.5442672359663443|\n",
      "+------+------------------+\n",
      "\n",
      "+------+------------------+\n",
      "|exited|    avg(hascrcard)|\n",
      "+------+------------------+\n",
      "|     1|0.6990672557682867|\n",
      "|     0|0.7071455481602411|\n",
      "+------+------------------+\n",
      "\n",
      "+------+-------------------+\n",
      "|exited|avg(isactivemember)|\n",
      "+------+-------------------+\n",
      "|     1|0.36082474226804123|\n",
      "|     0| 0.5545648624890117|\n",
      "+------+-------------------+\n",
      "\n",
      "+------+--------------------+\n",
      "|exited|avg(estimatedsalary)|\n",
      "+------+--------------------+\n",
      "|     1|   101465.6775306824|\n",
      "|     0|   99738.39177194514|\n",
      "+------+--------------------+\n",
      "\n",
      "+------+-----------+\n",
      "|exited|avg(exited)|\n",
      "+------+-----------+\n",
      "|     1|        1.0|\n",
      "|     0|        0.0|\n",
      "+------+-----------+\n",
      "\n"
     ]
    }
   ],
   "source": [
    "# Numerical columns statistics based on churn data\n",
    "for col in num_cols:\n",
    "    spark_df.groupby(\"exited\").agg({col: \"mean\"}).show()"
   ]
  },
  {
   "cell_type": "code",
   "execution_count": 20,
   "metadata": {},
   "outputs": [
    {
     "name": "stdout",
     "output_type": "stream",
     "text": [
      "+---------+\n",
      "|namespace|\n",
      "+---------+\n",
      "|  default|\n",
      "+---------+\n",
      "\n",
      "+---------+---------+-----------+\n",
      "|namespace|tableName|isTemporary|\n",
      "+---------+---------+-----------+\n",
      "|         |   tbl_df|       true|\n",
      "+---------+---------+-----------+\n",
      "\n",
      "+---+\n",
      "|age|\n",
      "+---+\n",
      "| 42|\n",
      "| 41|\n",
      "| 42|\n",
      "| 39|\n",
      "| 43|\n",
      "+---+\n",
      "\n",
      "+------+-----------------+\n",
      "|exited|         avg(age)|\n",
      "+------+-----------------+\n",
      "|     1| 44.8379970544919|\n",
      "|     0|37.40838879819164|\n",
      "+------+-----------------+\n",
      "\n"
     ]
    }
   ],
   "source": [
    "spark_df.createOrReplaceTempView(\"tbl_df\")\n",
    "\n",
    "spark.sql(\"show databases\").show()\n",
    "\n",
    "spark.sql(\"show tables\").show()\n",
    "\n",
    "spark.sql(\"select age from tbl_df limit 5\").show()\n",
    "\n",
    "spark.sql(\"select exited, avg(age) from tbl_df group by exited\").show()\n"
   ]
  },
  {
   "cell_type": "code",
   "execution_count": 21,
   "metadata": {},
   "outputs": [
    {
     "name": "stdout",
     "output_type": "stream",
     "text": [
      "+---------+------+---+------+-------------+---------+--------------+------+---------+------------+--------------+------------------+--------------------+---------------------+--------+-------+\n",
      "|geography|gender|age|tenure|numofproducts|hascrcard|isactivemember|exited|  segment|credit_range|est_retirement|   tenure_over_nop|      cs_over_salary|estsalary_over_tenure|balance0|age_cat|\n",
      "+---------+------+---+------+-------------+---------+--------------+------+---------+------------+--------------+------------------+--------------------+---------------------+--------+-------+\n",
      "|   France|Female| 42|     2|            1|        1|             1|     1|segment_b|           4|             0|               2.0|0.006107615594765329|             50674.44|       1|    3.0|\n",
      "|    Spain|Female| 41|     1|            1|        0|             1|     0|segment_b|           4|             0|               1.0|0.005402399696186101|            112542.58|       0|    3.0|\n",
      "|   France|Female| 42|     8|            3|        1|             0|     1|segment_a|           3|             0|2.6666666666666665|0.004406153623618106|          14241.44625|       0|    3.0|\n",
      "|   France|Female| 39|     1|            2|        0|             0|     0|segment_b|           4|             0|               0.5|0.007449910542454738|             93826.63|       1|    2.0|\n",
      "|    Spain|Female| 43|     2|            1|        1|             1|     0|segment_b|           6|             0|               2.0|0.010748051757559357|             39542.05|       0|    3.0|\n",
      "|    Spain|  Male| 44|     8|            2|        1|             0|     1|segment_a|           4|             0|               4.0|0.004306985643581513|          18719.58875|       0|    3.0|\n",
      "|   France|  Male| 50|     7|            2|        1|             1|     0|segment_a|           6|             0|               3.5| 0.08168700560480185|    1437.542857142857|       1|    4.0|\n",
      "|  Germany|Female| 29|     4|            4|        1|             0|     1|segment_b|           2|             0|               1.0|0.003150480347705...|             29836.72|       0|    1.0|\n",
      "|   France|  Male| 44|     4|            2|        0|             1|     0|segment_b|           3|             0|               2.0|0.006685303674248237|            18735.125|       0|    3.0|\n",
      "|   France|  Male| 27|     2|            1|        1|             1|     0|segment_b|           4|             0|               2.0|0.009536326782592523|            35862.865|       0|    1.0|\n",
      "|   France|  Male| 31|     6|            2|        0|             0|     0|segment_a|           3|             0|               3.0|0.006585091353176409|   13363.519999999999|       0|    2.0|\n",
      "|    Spain|  Male| 24|     3|            2|        1|             0|     0|segment_b|           2|             0|               1.5|0.006506086332492954|   25463.336666666666|       1|    1.0|\n",
      "|   France|Female| 34|    10|            2|        1|             0|     0|segment_a|           2|             0|               5.0|0.018125751590382384|             2626.098|       1|    2.0|\n",
      "|   France|Female| 25|     5|            2|        0|             0|     0|segment_a|           3|             0|               2.5|0.002876487252629...|   38171.558000000005|       1|    1.0|\n",
      "|    Spain|Female| 35|     7|            2|        1|             1|     0|segment_a|           4|             0|               3.5|0.009628265555145323|    9421.664285714285|       1|    2.0|\n",
      "|  Germany|  Male| 45|     3|            2|        0|             1|     0|segment_b|           4|             0|               1.5|0.009576033550939368|   21442.420000000002|       0|    3.0|\n",
      "|  Germany|  Male| 58|     1|            1|        1|             0|     1|segment_b|           4|             0|               1.0|  0.1280977387708502|              5097.67|       0|    4.0|\n",
      "|    Spain|Female| 24|     9|            2|        1|             1|     0|segment_a|           3|             0|               4.5| 0.03810803663091638|   1600.7122222222222|       1|    1.0|\n",
      "|    Spain|  Male| 45|     6|            1|        0|             0|     0|segment_a|           3|             0|               6.0|0.003699156838011...|   26447.468333333334|       1|    3.0|\n",
      "|   France|Female| 24|     6|            2|        1|             1|     0|segment_a|           5|             0|               3.0|0.013266566808036616|    9120.671666666667|       1|    1.0|\n",
      "+---------+------+---+------+-------------+---------+--------------+------+---------+------------+--------------+------------------+--------------------+---------------------+--------+-------+\n",
      "only showing top 20 rows\n",
      "\n"
     ]
    }
   ],
   "source": [
    "############################\n",
    "# Feature Interaction\n",
    "############################\n",
    "from pyspark.sql.functions import when, count, col\n",
    "\n",
    "# Filling missing values with 50\n",
    "spark_df = spark_df.fillna(50)\n",
    "\n",
    "# segment a and segment b for using the product higher than 5 years\n",
    "spark_df = spark_df.withColumn('segment', \n",
    "                               when(spark_df['tenure'] < 5, \"segment_b\").otherwise(\"segment_a\"))\n",
    "# credit score range\n",
    "spark_df = spark_df.withColumn('credit_range',\n",
    "                    when(spark_df['creditscore'] < 300, 1).\n",
    "                    when((spark_df['creditscore'] >= 300) & (spark_df['creditscore'] < 501), 2).\n",
    "                    when((spark_df['creditscore'] >= 501) & (spark_df['creditscore'] < 601), 3).\n",
    "                    when((spark_df['creditscore'] >= 601) & (spark_df['creditscore'] < 701), 4).\n",
    "                    when((spark_df['creditscore'] >= 701) & (spark_df['creditscore'] < 801), 5).\n",
    "                    otherwise(6))\n",
    "# Estimated retirement for diffrent countries\n",
    "spark_df = spark_df.withColumn('est_retirement',\n",
    "                    when((spark_df['age'] >= 65) & (spark_df['geography'] == \"Germany\"), 1).\n",
    "                    when((spark_df['age'] < 65) & (spark_df['geography'] == \"Germany\"), 0).\n",
    "                    when((spark_df['age'] >= 66) & (spark_df['geography'] == \"Spain\"), 1).\n",
    "                    when((spark_df['age'] < 66) & (spark_df['geography'] == \"Spain\"), 0).\n",
    "                    when((spark_df['age'] >= 62) & (spark_df['geography'] == \"France\"), 1).\n",
    "                    when((spark_df['age'] < 62) & (spark_df['geography'] == \"France\"), 0))\n",
    "\n",
    "# Tenure / Number of Product\n",
    "spark_df = spark_df.withColumn('tenure_over_nop', spark_df.tenure / spark_df.numofproducts)\n",
    "# Credit Score / Estimated Salary\n",
    "spark_df = spark_df.withColumn('cs_over_salary', spark_df.creditscore / spark_df.estimatedsalary)\n",
    "# Estimated Salary / Tenure\n",
    "spark_df = spark_df.withColumn('estsalary_over_tenure', spark_df.estimatedsalary / spark_df.tenure)\n",
    "# Balance is equal to 0 or Not\n",
    "spark_df = spark_df.withColumn('balance0',\n",
    "                    when(spark_df['balance'] > 0.0, 0).otherwise(1))\n",
    "\n",
    "############################\n",
    "# Bucketization / Bining / Num to Cat\n",
    "############################\n",
    "\n",
    "bucketizer = Bucketizer(splits=[18, 30, 40, 50, 60, 92], inputCol=\"age\", outputCol=\"age_cat\")\n",
    "\n",
    "spark_df = bucketizer.setHandleInvalid(\"keep\").transform(spark_df)\n",
    "\n",
    "spark_df = spark_df.withColumn('age_cat', spark_df.age_cat + 1)\n",
    "\n",
    "spark_df = spark_df.drop(\"balance\", \"creditscore\", \"rownumber\", \"customerid\", \"surname\", \"estimatedsalary\")\n",
    "\n",
    "spark_df.show(20)"
   ]
  },
  {
   "cell_type": "code",
   "execution_count": 22,
   "metadata": {},
   "outputs": [
    {
     "name": "stderr",
     "output_type": "stream",
     "text": [
      "                                                                                \r"
     ]
    }
   ],
   "source": [
    "############################\n",
    "# Label Encoding\n",
    "############################\n",
    "\n",
    "indexer = StringIndexer(inputCol=\"segment\", outputCol=\"segment_label\")\n",
    "\n",
    "indexer.fit(spark_df).transform(spark_df)\n",
    "\n",
    "temp_sdf = indexer.fit(spark_df).transform(spark_df)\n",
    "\n",
    "spark_df = temp_sdf.withColumn(\"segment_label\", temp_sdf[\"segment_label\"].cast(\"integer\"))\n",
    "\n",
    "spark_df = spark_df.drop('segment')\n",
    "\n",
    "# Geography column label encoding\n",
    "\n",
    "indexer = StringIndexer(inputCol=\"geography\", outputCol=\"country_label\")\n",
    "\n",
    "indexer.fit(spark_df).transform(spark_df)\n",
    "\n",
    "temp_sdf = indexer.fit(spark_df).transform(spark_df)\n",
    "\n",
    "spark_df = temp_sdf.withColumn(\"country_label\", temp_sdf[\"country_label\"].cast(\"integer\"))\n",
    "\n",
    "spark_df = spark_df.drop('geography')"
   ]
  },
  {
   "cell_type": "code",
   "execution_count": 23,
   "metadata": {},
   "outputs": [
    {
     "name": "stdout",
     "output_type": "stream",
     "text": [
      "+------+---+------+-------------+---------+--------------+------+------------+--------------+------------------+--------------------+---------------------+--------+-------+-------------+-------------+-------------+\n",
      "|gender|age|tenure|numofproducts|hascrcard|isactivemember|exited|credit_range|est_retirement|   tenure_over_nop|      cs_over_salary|estsalary_over_tenure|balance0|age_cat|segment_label|country_label|  age_cat_ohe|\n",
      "+------+---+------+-------------+---------+--------------+------+------------+--------------+------------------+--------------------+---------------------+--------+-------+-------------+-------------+-------------+\n",
      "|Female| 42|     2|            1|        1|             1|     1|           4|             0|               2.0|0.006107615594765329|             50674.44|       1|    3.0|            1|            0|(5,[3],[1.0])|\n",
      "|Female| 41|     1|            1|        0|             1|     0|           4|             0|               1.0|0.005402399696186101|            112542.58|       0|    3.0|            1|            2|(5,[3],[1.0])|\n",
      "|Female| 42|     8|            3|        1|             0|     1|           3|             0|2.6666666666666665|0.004406153623618106|          14241.44625|       0|    3.0|            0|            0|(5,[3],[1.0])|\n",
      "|Female| 39|     1|            2|        0|             0|     0|           4|             0|               0.5|0.007449910542454738|             93826.63|       1|    2.0|            1|            0|(5,[2],[1.0])|\n",
      "|Female| 43|     2|            1|        1|             1|     0|           6|             0|               2.0|0.010748051757559357|             39542.05|       0|    3.0|            1|            2|(5,[3],[1.0])|\n",
      "+------+---+------+-------------+---------+--------------+------+------------+--------------+------------------+--------------------+---------------------+--------+-------+-------------+-------------+-------------+\n",
      "only showing top 5 rows\n",
      "\n"
     ]
    }
   ],
   "source": [
    "############################\n",
    "# One Hot Encoding\n",
    "############################\n",
    "encoder = OneHotEncoder(inputCols=[\"age_cat\"], outputCols=[\"age_cat_ohe\"])\n",
    "spark_df = encoder.fit(spark_df).transform(spark_df)\n",
    "\n",
    "spark_df.show(5)\n"
   ]
  },
  {
   "cell_type": "code",
   "execution_count": 24,
   "metadata": {},
   "outputs": [
    {
     "name": "stdout",
     "output_type": "stream",
     "text": [
      "+------+---+------+-------------+---------+--------------+------+------------+--------------+------------------+--------------------+---------------------+--------+-------+-------------+-------------+-------------+-----+\n",
      "|gender|age|tenure|numofproducts|hascrcard|isactivemember|exited|credit_range|est_retirement|   tenure_over_nop|      cs_over_salary|estsalary_over_tenure|balance0|age_cat|segment_label|country_label|  age_cat_ohe|label|\n",
      "+------+---+------+-------------+---------+--------------+------+------------+--------------+------------------+--------------------+---------------------+--------+-------+-------------+-------------+-------------+-----+\n",
      "|Female| 42|     2|            1|        1|             1|     1|           4|             0|               2.0|0.006107615594765329|             50674.44|       1|    3.0|            1|            0|(5,[3],[1.0])|    1|\n",
      "|Female| 41|     1|            1|        0|             1|     0|           4|             0|               1.0|0.005402399696186101|            112542.58|       0|    3.0|            1|            2|(5,[3],[1.0])|    0|\n",
      "|Female| 42|     8|            3|        1|             0|     1|           3|             0|2.6666666666666665|0.004406153623618106|          14241.44625|       0|    3.0|            0|            0|(5,[3],[1.0])|    1|\n",
      "|Female| 39|     1|            2|        0|             0|     0|           4|             0|               0.5|0.007449910542454738|             93826.63|       1|    2.0|            1|            0|(5,[2],[1.0])|    0|\n",
      "|Female| 43|     2|            1|        1|             1|     0|           6|             0|               2.0|0.010748051757559357|             39542.05|       0|    3.0|            1|            2|(5,[3],[1.0])|    0|\n",
      "+------+---+------+-------------+---------+--------------+------+------------+--------------+------------------+--------------------+---------------------+--------+-------+-------------+-------------+-------------+-----+\n",
      "only showing top 5 rows\n",
      "\n"
     ]
    }
   ],
   "source": [
    "############################\n",
    "# Defining TARGET\n",
    "############################\n",
    "\n",
    "stringIndexer = StringIndexer(inputCol='exited', outputCol='label')\n",
    "temp_sdf = stringIndexer.fit(spark_df).transform(spark_df)\n",
    "spark_df = temp_sdf.withColumn(\"label\", temp_sdf[\"label\"].cast(\"integer\"))\n",
    "spark_df.show(5)"
   ]
  },
  {
   "cell_type": "code",
   "execution_count": 29,
   "metadata": {},
   "outputs": [
    {
     "name": "stdout",
     "output_type": "stream",
     "text": [
      "+------+---+------+-------------+---------+--------------+------+------------+--------------+------------------+--------------------+---------------------+--------+-------+-------------+-------------+-------------+-----+--------------------+\n",
      "|gender|age|tenure|numofproducts|hascrcard|isactivemember|exited|credit_range|est_retirement|   tenure_over_nop|      cs_over_salary|estsalary_over_tenure|balance0|age_cat|segment_label|country_label|  age_cat_ohe|label|            features|\n",
      "+------+---+------+-------------+---------+--------------+------+------------+--------------+------------------+--------------------+---------------------+--------+-------+-------------+-------------+-------------+-----+--------------------+\n",
      "|Female| 42|     2|            1|        1|             1|     1|           4|             0|               2.0|0.006107615594765329|             50674.44|       1|    3.0|            1|            0|(5,[3],[1.0])|    1|[42.0,2.0,1.0,1.0...|\n",
      "|Female| 41|     1|            1|        0|             1|     0|           4|             0|               1.0|0.005402399696186101|            112542.58|       0|    3.0|            1|            2|(5,[3],[1.0])|    0|[41.0,1.0,1.0,0.0...|\n",
      "|Female| 42|     8|            3|        1|             0|     1|           3|             0|2.6666666666666665|0.004406153623618106|          14241.44625|       0|    3.0|            0|            0|(5,[3],[1.0])|    1|(18,[0,1,2,3,9,11...|\n",
      "|Female| 39|     1|            2|        0|             0|     0|           4|             0|               0.5|0.007449910542454738|             93826.63|       1|    2.0|            1|            0|(5,[2],[1.0])|    0|(18,[0,1,2,5,8,11...|\n",
      "|Female| 43|     2|            1|        1|             1|     0|           6|             0|               2.0|0.010748051757559357|             39542.05|       0|    3.0|            1|            2|(5,[3],[1.0])|    0|[43.0,2.0,1.0,1.0...|\n",
      "|  Male| 44|     8|            2|        1|             0|     1|           4|             0|               4.0|0.004306985643581513|          18719.58875|       0|    3.0|            0|            2|(5,[3],[1.0])|    1|(18,[0,1,2,3,9,11...|\n",
      "|  Male| 50|     7|            2|        1|             1|     0|           6|             0|               3.5| 0.08168700560480185|    1437.542857142857|       1|    4.0|            0|            0|(5,[4],[1.0])|    0|[50.0,7.0,2.0,1.0...|\n",
      "|Female| 29|     4|            4|        1|             0|     1|           2|             0|               1.0|0.003150480347705...|             29836.72|       0|    1.0|            1|            1|(5,[1],[1.0])|    1|[29.0,4.0,4.0,1.0...|\n",
      "|  Male| 44|     4|            2|        0|             1|     0|           3|             0|               2.0|0.006685303674248237|            18735.125|       0|    3.0|            1|            0|(5,[3],[1.0])|    0|(18,[0,1,2,4,5,9,...|\n",
      "|  Male| 27|     2|            1|        1|             1|     0|           4|             0|               2.0|0.009536326782592523|            35862.865|       0|    1.0|            1|            0|(5,[1],[1.0])|    0|[27.0,2.0,1.0,1.0...|\n",
      "|  Male| 31|     6|            2|        0|             0|     0|           3|             0|               3.0|0.006585091353176409|   13363.519999999999|       0|    2.0|            0|            0|(5,[2],[1.0])|    0|(18,[0,1,2,8,11,1...|\n",
      "|  Male| 24|     3|            2|        1|             0|     0|           2|             0|               1.5|0.006506086332492954|   25463.336666666666|       1|    1.0|            1|            2|(5,[1],[1.0])|    0|[24.0,3.0,2.0,1.0...|\n",
      "|Female| 34|    10|            2|        1|             0|     0|           2|             0|               5.0|0.018125751590382384|             2626.098|       1|    2.0|            0|            0|(5,[2],[1.0])|    0|(18,[0,1,2,3,8,11...|\n",
      "|Female| 25|     5|            2|        0|             0|     0|           3|             0|               2.5|0.002876487252629...|   38171.558000000005|       1|    1.0|            0|            0|(5,[1],[1.0])|    0|(18,[0,1,2,7,11,1...|\n",
      "|Female| 35|     7|            2|        1|             1|     0|           4|             0|               3.5|0.009628265555145323|    9421.664285714285|       1|    2.0|            0|            2|(5,[2],[1.0])|    0|[35.0,7.0,2.0,1.0...|\n",
      "|  Male| 45|     3|            2|        0|             1|     0|           4|             0|               1.5|0.009576033550939368|   21442.420000000002|       0|    3.0|            1|            1|(5,[3],[1.0])|    0|[45.0,3.0,2.0,0.0...|\n",
      "|  Male| 58|     1|            1|        1|             0|     1|           4|             0|               1.0|  0.1280977387708502|              5097.67|       0|    4.0|            1|            1|(5,[4],[1.0])|    1|[58.0,1.0,1.0,1.0...|\n",
      "|Female| 24|     9|            2|        1|             1|     0|           3|             0|               4.5| 0.03810803663091638|   1600.7122222222222|       1|    1.0|            0|            2|(5,[1],[1.0])|    0|[24.0,9.0,2.0,1.0...|\n",
      "|  Male| 45|     6|            1|        0|             0|     0|           3|             0|               6.0|0.003699156838011...|   26447.468333333334|       1|    3.0|            0|            2|(5,[3],[1.0])|    0|(18,[0,1,2,9,11,1...|\n",
      "|Female| 24|     6|            2|        1|             1|     0|           5|             0|               3.0|0.013266566808036616|    9120.671666666667|       1|    1.0|            0|            0|(5,[1],[1.0])|    0|[24.0,6.0,2.0,1.0...|\n",
      "+------+---+------+-------------+---------+--------------+------+------------+--------------+------------------+--------------------+---------------------+--------+-------+-------------+-------------+-------------+-----+--------------------+\n",
      "only showing top 20 rows\n",
      "\n"
     ]
    }
   ],
   "source": [
    "############################\n",
    "# Defining Features\n",
    "############################\n",
    "\n",
    "cols = ['age', 'tenure', 'numofproducts', 'hascrcard',\n",
    "        'isactivemember', 'segment_label', 'age_cat_ohe', 'credit_range', 'est_retirement', 'tenure_over_nop', 'cs_over_salary',\n",
    "       'estsalary_over_tenure', 'balance0', 'country_label']\n",
    "va = VectorAssembler(inputCols=cols, outputCol=\"features\",handleInvalid=\"skip\")\n",
    "va_df = va.transform(spark_df)\n",
    "va_df.show()\n"
   ]
  },
  {
   "cell_type": "code",
   "execution_count": 30,
   "metadata": {},
   "outputs": [
    {
     "name": "stdout",
     "output_type": "stream",
     "text": [
      "+--------------------+-----+\n",
      "|            features|label|\n",
      "+--------------------+-----+\n",
      "|[42.0,2.0,1.0,1.0...|    1|\n",
      "|[41.0,1.0,1.0,0.0...|    0|\n",
      "|(18,[0,1,2,3,9,11...|    1|\n",
      "|(18,[0,1,2,5,8,11...|    0|\n",
      "|[43.0,2.0,1.0,1.0...|    0|\n",
      "+--------------------+-----+\n",
      "only showing top 5 rows\n",
      "\n"
     ]
    }
   ],
   "source": [
    "final_df = va_df.select(\"features\", \"label\")\n",
    "final_df.show(5)"
   ]
  },
  {
   "cell_type": "code",
   "execution_count": 31,
   "metadata": {},
   "outputs": [
    {
     "name": "stdout",
     "output_type": "stream",
     "text": [
      "+--------------------+-----+\n",
      "|            features|label|\n",
      "+--------------------+-----+\n",
      "|(18,[0,1,2,3,4,5,...|    0|\n",
      "|(18,[0,1,2,3,4,5,...|    0|\n",
      "|(18,[0,1,2,3,4,7,...|    0|\n",
      "|(18,[0,1,2,3,4,7,...|    0|\n",
      "|(18,[0,1,2,3,4,7,...|    0|\n",
      "|(18,[0,1,2,3,4,7,...|    0|\n",
      "|(18,[0,1,2,3,4,7,...|    0|\n",
      "|(18,[0,1,2,3,4,7,...|    0|\n",
      "|(18,[0,1,2,3,4,7,...|    0|\n",
      "|(18,[0,1,2,3,4,7,...|    0|\n",
      "+--------------------+-----+\n",
      "only showing top 10 rows\n",
      "\n",
      "+--------------------+-----+\n",
      "|            features|label|\n",
      "+--------------------+-----+\n",
      "|(18,[0,1,2,3,4,5,...|    1|\n",
      "|(18,[0,1,2,3,4,7,...|    0|\n",
      "|(18,[0,1,2,3,4,7,...|    0|\n",
      "|(18,[0,1,2,3,4,7,...|    0|\n",
      "|(18,[0,1,2,3,4,7,...|    0|\n",
      "|(18,[0,1,2,3,4,7,...|    0|\n",
      "|(18,[0,1,2,3,4,7,...|    0|\n",
      "|(18,[0,1,2,3,4,7,...|    0|\n",
      "|(18,[0,1,2,3,4,7,...|    0|\n",
      "|(18,[0,1,2,3,4,7,...|    0|\n",
      "+--------------------+-----+\n",
      "only showing top 10 rows\n",
      "\n",
      "Training Dataset Count: 6673\n",
      "Test Dataset Count: 2914\n"
     ]
    }
   ],
   "source": [
    "# Split the dataset into test and train sets.\n",
    "train_df, test_df = final_df.randomSplit([0.7, 0.3], seed=17)\n",
    "train_df.show(10)\n",
    "test_df.show(10)\n",
    "\n",
    "print(\"Training Dataset Count: \" + str(train_df.count()))\n",
    "print(\"Test Dataset Count: \" + str(test_df.count()))"
   ]
  },
  {
   "cell_type": "code",
   "execution_count": 32,
   "metadata": {},
   "outputs": [
    {
     "name": "stderr",
     "output_type": "stream",
     "text": [
      "                                                                                \r"
     ]
    },
    {
     "name": "stdout",
     "output_type": "stream",
     "text": [
      "+--------------------+-----+--------------------+--------------------+----------+\n",
      "|            features|label|       rawPrediction|         probability|prediction|\n",
      "+--------------------+-----+--------------------+--------------------+----------+\n",
      "|(18,[0,1,2,3,4,5,...|    1|[-1.9824549809097...|[0.01861659253233...|       1.0|\n",
      "|(18,[0,1,2,3,4,7,...|    0|[1.54441313220974...|[0.95642947917751...|       0.0|\n",
      "|(18,[0,1,2,3,4,7,...|    0|[1.46061456492074...|[0.94888594651194...|       0.0|\n",
      "|(18,[0,1,2,3,4,7,...|    0|[1.03003880703091...|[0.88696195178223...|       0.0|\n",
      "|(18,[0,1,2,3,4,7,...|    0|[1.19971130062871...|[0.91678326336734...|       0.0|\n",
      "+--------------------+-----+--------------------+--------------------+----------+\n",
      "only showing top 5 rows\n",
      "\n"
     ]
    },
    {
     "data": {
      "text/plain": [
       "0.8665065202470831"
      ]
     },
     "execution_count": 32,
     "metadata": {},
     "output_type": "execute_result"
    }
   ],
   "source": [
    "############################\n",
    "# Gradient Boosted Tree Classifier\n",
    "############################\n",
    "gbm = GBTClassifier(maxIter=100, featuresCol=\"features\", labelCol=\"label\")\n",
    "gbm_model = gbm.fit(train_df)\n",
    "y_pred = gbm_model.transform(test_df)\n",
    "y_pred.show(5)\n",
    "\n",
    "y_pred.filter(y_pred.label == y_pred.prediction).count() / y_pred.count()\n",
    "\n"
   ]
  },
  {
   "cell_type": "code",
   "execution_count": 33,
   "metadata": {},
   "outputs": [
    {
     "data": {
      "text/plain": [
       "0.8634179821551132"
      ]
     },
     "execution_count": 33,
     "metadata": {},
     "output_type": "execute_result"
    }
   ],
   "source": [
    "############################\n",
    "# Model Tuning\n",
    "############################\n",
    "\n",
    "evaluator = BinaryClassificationEvaluator()\n",
    "\n",
    "\n",
    "gbm_params = (ParamGridBuilder()\n",
    "              .addGrid(gbm.maxDepth, [2, 4, 6])\n",
    "              .addGrid(gbm.maxBins, [20, 30])\n",
    "              .addGrid(gbm.maxIter, [10, 20])\n",
    "              .build())\n",
    "\n",
    "\n",
    "\n",
    "cv = CrossValidator(estimator=gbm,\n",
    "                    estimatorParamMaps=gbm_params,\n",
    "                    evaluator=evaluator,\n",
    "                    numFolds=5)\n",
    "\n",
    "cv_model = cv.fit(train_df)\n",
    "\n",
    "\n",
    "y_pred = cv_model.transform(test_df)\n",
    "ac = y_pred.select(\"label\", \"prediction\")\n",
    "ac.filter(ac.label == ac.prediction).count() / ac.count()"
   ]
  },
  {
   "cell_type": "code",
   "execution_count": null,
   "metadata": {},
   "outputs": [],
   "source": []
  }
 ],
 "metadata": {
  "kernelspec": {
   "display_name": "Python 3",
   "language": "python",
   "name": "python3"
  },
  "language_info": {
   "codemirror_mode": {
    "name": "ipython",
    "version": 3
   },
   "file_extension": ".py",
   "mimetype": "text/x-python",
   "name": "python",
   "nbconvert_exporter": "python",
   "pygments_lexer": "ipython3",
   "version": "3.10.12"
  }
 },
 "nbformat": 4,
 "nbformat_minor": 2
}
